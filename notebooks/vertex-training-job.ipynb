{
 "cells": [
  {
   "cell_type": "code",
   "execution_count": null,
   "metadata": {},
   "outputs": [],
   "source": [
    "import os\n",
    "from dotenv import load_dotenv\n",
    "\n",
    "load_dotenv()\n",
    "\n",
    "GCP_PROJECT_ID = os.environ[\"GCP_PROJECT_ID\"]"
   ]
  },
  {
   "cell_type": "code",
   "execution_count": null,
   "metadata": {},
   "outputs": [],
   "source": [
    "from google.cloud import aiplatform\n",
    "\n",
    "job = aiplatform.CustomContainerTrainingJob(\n",
    "    display_name=\"train-penguin-model\",\n",
    "    command=[\"penguin-model\", \"bigquery-public-data.ml_datasets.penguins\"],\n",
    "    container_uri=f\"europe-west1-docker.pkg.dev/{GCP_PROJECT_ID}/vertex/penguin_model\",\n",
    "    staging_bucket=f\"gs://{GCP_PROJECT_ID}-penguin-artifacts\",\n",
    "    location=\"europe-west1\",\n",
    "    model_serving_container_image_uri=\"europe-docker.pkg.dev/vertex-ai/prediction/sklearn-cpu.0-24:latest\",\n",
    ")\n",
    "\n",
    "job"
   ]
  },
  {
   "cell_type": "code",
   "execution_count": null,
   "metadata": {},
   "outputs": [],
   "source": [
    "job.run(\n",
    "    model_display_name=\"penguin-model\",\n",
    "    service_account=f\"vmd-penguin@{GCP_PROJECT_ID}.iam.gserviceaccount.com\",\n",
    ")"
   ]
  }
 ],
 "metadata": {
  "language_info": {
   "name": "python"
  }
 },
 "nbformat": 4,
 "nbformat_minor": 2
}
