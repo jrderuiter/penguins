{
 "cells": [
  {
   "cell_type": "code",
   "execution_count": null,
   "metadata": {},
   "outputs": [],
   "source": [
    "from google.cloud import aiplatform\n",
    "\n",
    "job = aiplatform.CustomContainerTrainingJob(\n",
    "    display_name=\"train-penguin-model\",\n",
    "    command=[\"penguin-model\", \"bigquery-public-data.ml_datasets.penguins\"],\n",
    "    container_uri=\"europe-west1-docker.pkg.dev/cde-ds-enablement-8k1r/vertex/penguin_model\",\n",
    "    staging_bucket=\"gs://cde-dse-penguin-artifacts\",\n",
    "    location=\"europe-west1\",\n",
    "    model_serving_container_image_uri=\"europe-docker.pkg.dev/vertex-ai/prediction/sklearn-cpu.0-24:latest\",\n",
    ")\n",
    "\n",
    "job"
   ]
  },
  {
   "cell_type": "code",
   "execution_count": null,
   "metadata": {},
   "outputs": [],
   "source": [
    "job.run(\n",
    "    model_display_name=\"penguin-model\",\n",
    "    service_account=\"pipeline-penguin@cde-ds-enablement-8k1r.iam.gserviceaccount.com\",\n",
    ")"
   ]
  }
 ],
 "metadata": {
  "language_info": {
   "name": "python"
  }
 },
 "nbformat": 4,
 "nbformat_minor": 2
}
