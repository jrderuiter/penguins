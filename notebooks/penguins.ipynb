{
 "cells": [
  {
   "cell_type": "code",
   "execution_count": null,
   "id": "83e5d773",
   "metadata": {},
   "outputs": [],
   "source": [
    "from google.cloud import bigquery\n",
    "\n",
    "client = bigquery.Client()"
   ]
  },
  {
   "cell_type": "code",
   "execution_count": null,
   "id": "06db983a",
   "metadata": {},
   "outputs": [],
   "source": [
    "job = client.query(\"SELECT * FROM `bigquery-public-data`.ml_datasets.penguins\")\n",
    "df = job.to_dataframe()"
   ]
  },
  {
   "cell_type": "code",
   "execution_count": null,
   "id": "92e7a74f",
   "metadata": {},
   "outputs": [],
   "source": [
    "df.head()"
   ]
  },
  {
   "cell_type": "code",
   "execution_count": null,
   "id": "055eaea3",
   "metadata": {},
   "outputs": [],
   "source": [
    "from sklearn.pipeline import Pipeline"
   ]
  },
  {
   "cell_type": "code",
   "execution_count": null,
   "id": "06712cc3",
   "metadata": {},
   "outputs": [],
   "source": [
    "from sklearn.compose import ColumnTransformer\n",
    "from sklearn.preprocessing import OneHotEncoder\n",
    "from sklearn.ensemble import RandomForestClassifier\n",
    "\n",
    "train = df[[\"species\", \"island\", \"sex\"]].dropna().loc[lambda row: row.sex != \".\"]\n",
    "\n",
    "x = train.drop(\"sex\", axis=1)\n",
    "y = train[\"sex\"].map({'MALE':0, 'FEMALE':1}).astype(int)\n",
    "\n",
    "model = Pipeline(\n",
    "    steps=[\n",
    "        (\n",
    "            \"feature_engineering\", \n",
    "            ColumnTransformer(\n",
    "              transformers=[(\"one_hot\", OneHotEncoder(), [\"species\", \"island\"])],\n",
    "              remainder=\"drop\"\n",
    "            )\n",
    "        ),\n",
    "        (\n",
    "            \"model\",\n",
    "            RandomForestClassifier()\n",
    "        )       \n",
    "    ]\n",
    ")\n",
    "\n",
    "model.fit(x, y)\n",
    "model.predict(x)"
   ]
  },
  {
   "cell_type": "code",
   "execution_count": null,
   "id": "764a959a",
   "metadata": {},
   "outputs": [],
   "source": [
    "import kfp\n",
    "from kfp.v2.compiler import Compiler\n",
    "from kfp import components as comp\n",
    "from kfp.v2.google.client import AIPlatformClient\n",
    "from google.cloud.aiplatform.pipeline_jobs import PipelineJob\n",
    "from google.cloud.aiplatform import Model\n",
    "\n",
    "project_id = \"cde-ds-enablement-8k1r\"\n",
    "region = \"europe-west1\"\n",
    "pipeline_root_path = \"gs://cde-dse-test-artifacts/penguin-model\"\n",
    "\n",
    "\n",
    "def _train_model():\n",
    "    \"\"\"Trains our penguin model.\"\"\"\n",
    "    import os\n",
    "    \n",
    "    # from google.cloud import storage\n",
    "    from google.cloud import bigquery\n",
    "    \n",
    "    import joblib\n",
    "    from sklearn.compose import ColumnTransformer\n",
    "    from sklearn.ensemble import RandomForestClassifier\n",
    "    from sklearn.preprocessing import OneHotEncoder\n",
    "    from sklearn.pipeline import Pipeline\n",
    "\n",
    "    client = bigquery.Client(project=os.environ[\"CLOUD_ML_PROJECT_ID\"])    \n",
    "    data = client.query(\"SELECT * FROM `bigquery-public-data`.ml_datasets.penguins\").to_dataframe()\n",
    "    \n",
    "    train = data[[\"species\", \"island\", \"sex\"]].dropna().loc[lambda row: row.sex != \".\"]\n",
    "\n",
    "    x = train.drop(\"sex\", axis=1)\n",
    "    y = train[\"sex\"].map({'MALE':0, 'FEMALE':1}).astype(int)\n",
    "\n",
    "    model = Pipeline(\n",
    "        steps=[\n",
    "            (\n",
    "                \"feature_engineering\", \n",
    "                ColumnTransformer(\n",
    "                  transformers=[(\"one_hot\", OneHotEncoder(), [\"species\", \"island\"])],\n",
    "                  remainder=\"drop\"\n",
    "                )\n",
    "            ),\n",
    "            (\n",
    "                \"model\",\n",
    "                RandomForestClassifier()\n",
    "            )       \n",
    "        ]\n",
    "    )\n",
    "\n",
    "    model.fit(x, y)\n",
    "    \n",
    "    # Save model artifact to local filesystem (doesn't persist)\n",
    "    with Path(\"/gcs/cde-dse-test-outputs/model.pkl\").open(\"wb\") as file_:\n",
    "        joblib.dump(model, file_)\n",
    "\n",
    "\n",
    "train_model = comp.create_component_from_func(\n",
    "    _train_model,\n",
    "    packages_to_install=[\n",
    "        \"scikit-learn\", \n",
    "        \"google-cloud-bigquery\", \n",
    "        \"google-cloud-storage\", \n",
    "        \"pandas\", \n",
    "        \"pyarrow\"\n",
    "    ]\n",
    ")\n",
    "    \n",
    "\n",
    "@kfp.dsl.pipeline(\n",
    "    name=\"penguins\",\n",
    "    pipeline_root=pipeline_root_path)\n",
    "def pipeline():\n",
    "    train_model()\n",
    "\n",
    "    \n",
    "Compiler().compile(\n",
    "    pipeline_func=pipeline, \n",
    "    package_path='pipeline.json'\n",
    ")\n",
    "\n",
    "\n",
    "job = PipelineJob(\n",
    "    display_name=\"My first penguin pipeline\",\n",
    "    enable_caching=False,\n",
    "    template_path=\"pipeline.json\",\n",
    "    parameter_values={},\n",
    "    pipeline_root=pipeline_root_path,\n",
    "    location=region,\n",
    ")\n",
    "\n",
    "job.run(service_account=\"cde-dse-test-pipeline@cde-ds-enablement-8k1r.iam.gserviceaccount.com\")"
   ]
  },
  {
   "cell_type": "code",
   "execution_count": null,
   "id": "843d5ecd",
   "metadata": {},
   "outputs": [],
   "source": [
    "Model.upload"
   ]
  },
  {
   "cell_type": "code",
   "execution_count": null,
   "id": "d3ae8e29",
   "metadata": {},
   "outputs": [],
   "source": []
  }
 ],
 "metadata": {
  "environment": {
   "name": "tf2-cpu.2-6.m81",
   "type": "gcloud",
   "uri": "gcr.io/deeplearning-platform-release/tf2-cpu.2-6:m81"
  },
  "kernelspec": {
   "display_name": "Python 3",
   "language": "python",
   "name": "python3"
  },
  "language_info": {
   "codemirror_mode": {
    "name": "ipython",
    "version": 3
   },
   "file_extension": ".py",
   "mimetype": "text/x-python",
   "name": "python",
   "nbconvert_exporter": "python",
   "pygments_lexer": "ipython3",
   "version": "3.7.10"
  }
 },
 "nbformat": 4,
 "nbformat_minor": 5
}
