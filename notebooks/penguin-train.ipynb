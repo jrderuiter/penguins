{
 "cells": [
  {
   "cell_type": "code",
   "execution_count": null,
   "metadata": {},
   "outputs": [],
   "source": [
    "from penguin_model.model import train_model\n",
    "\n",
    "from google.cloud import bigquery\n",
    "\n",
    "\n",
    "client = bigquery.Client()    \n",
    "data = client.query(f\"SELECT * FROM `bigquery-public-data`.ml_datasets.penguins\").to_dataframe()\n",
    "\n",
    "data.head()"
   ]
  },
  {
   "cell_type": "code",
   "execution_count": null,
   "metadata": {},
   "outputs": [],
   "source": [
    "model = train_model(data)\n",
    "model.predict(data)"
   ]
  },
  {
   "cell_type": "code",
   "execution_count": null,
   "metadata": {},
   "outputs": [],
   "source": []
  }
 ],
 "metadata": {
  "interpreter": {
   "hash": "79885e6b11e7f47e45d3c7f9fa1c0c54f79af98e17e17b31cc5f2ccf50de5c40"
  },
  "kernelspec": {
   "display_name": "Python 3.7.10 64-bit ('.venv': poetry)",
   "name": "python3"
  },
  "language_info": {
   "codemirror_mode": {
    "name": "ipython",
    "version": 3
   },
   "file_extension": ".py",
   "mimetype": "text/x-python",
   "name": "python",
   "nbconvert_exporter": "python",
   "pygments_lexer": "ipython3",
   "version": "3.7.10"
  }
 },
 "nbformat": 4,
 "nbformat_minor": 2
}
